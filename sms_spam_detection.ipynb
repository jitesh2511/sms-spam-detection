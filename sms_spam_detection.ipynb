{
 "cells": [
  {
   "cell_type": "code",
   "execution_count": 1,
   "id": "72003fcc-bcf8-4efe-a86d-a2344be205d7",
   "metadata": {},
   "outputs": [],
   "source": [
    "# My first ML Model on the concept of Logistic Regression\n",
    "# - Jitesh Krishna"
   ]
  },
  {
   "cell_type": "code",
   "execution_count": 2,
   "id": "32ae1e35-a973-47fb-8ab3-e94cddaa65db",
   "metadata": {},
   "outputs": [
    {
     "name": "stdout",
     "output_type": "stream",
     "text": [
      "loaded all dependencies sucessfully\n"
     ]
    }
   ],
   "source": [
    "import pandas as pd\n",
    "import numpy as np\n",
    "import matplotlib.pyplot as plt\n",
    "import string\n",
    "import re\n",
    "from tqdm import tqdm\n",
    "\n",
    "print('loaded all dependencies sucessfully')"
   ]
  },
  {
   "cell_type": "code",
   "execution_count": 3,
   "id": "1fa17fc9-bdc2-4c6a-8ab2-591ccb4b622f",
   "metadata": {},
   "outputs": [],
   "source": [
    "# User-defined functions to be used later\n",
    "\n",
    "\n",
    "def sigmoid(z):\n",
    "    return 1/(1+np.exp(-z))\n",
    "# Used as activation function during training\n",
    "\n",
    "\n",
    "def calculate_loss(y_pred, Y):\n",
    "    return ((-((Y*np.log(y_pred)) + ((1-Y)*np.log(1-y_pred)))).sum())/(len(Y))\n",
    "# Used for calculating Cross-Entropy Loss during training\n",
    "\n",
    "\n",
    "def Test(dataset, weights, bias, threshold):\n",
    "    \n",
    "    x = np.array(dataset['vector'].tolist())\n",
    "    y = np.array(dataset['label'],dtype='float')\n",
    "    y = y.reshape(len(y),1)\n",
    "    z = np.dot(x, weights) + bias\n",
    "    y_pred = sigmoid(z)\n",
    "    TP = TN = FP = FN = 0\n",
    "    for i in range(len(y_pred)):\n",
    "        result = 1 if y_pred[i]>=threshold else 0\n",
    "        # print('\\n',result,validation.loc[i,'label'],'\\n')\n",
    "        \n",
    "        if (result==1) and (y[i]==1):\n",
    "            TP += 1\n",
    "        if (result==1) and (y[i]==0):\n",
    "            FP += 1\n",
    "        if (result==0) and (y[i]==1):\n",
    "            FN += 1\n",
    "        if (result==0) and (y[i]==0):\n",
    "            TN += 1\n",
    "    return (TP,TN,FP,FN)\n",
    "# Used to for Validation Tests during training and Final test after training\n",
    "\n",
    "\n",
    "def getStats(TP,TN,FP,FN):\n",
    "    accuracy = ((TP+TN)/(TP+TN+FP+FN))*100\n",
    "    precision = (TP/(TP+FP))*100\n",
    "    recall = (TP/(TP+FN))*100\n",
    "    false_alarm = (FP/(TP+FP))*100\n",
    "    F1 = 2*((precision*recall)/(precision+recall))\n",
    "    return (accuracy, precision, recall, false_alarm, F1)\n",
    "# Used to get resultant metrics of the training to analyze the training outcome\n",
    "\n",
    "\n",
    "def tokenize(text):\n",
    "    return re.findall(r'\\b[a-z]+\\b', text.lower())\n",
    "# Used to tokenize sentences (convert sentences into Token vectors)\n",
    "\n",
    "\n",
    "def text_to_vector(text, vocab):\n",
    "\n",
    "    vector = np.zeros(len(vocab), dtype=int)\n",
    "\n",
    "    for token in text:\n",
    "        if token in vocab:\n",
    "            index = vocab[token]\n",
    "            vector[index] += 1\n",
    "    \n",
    "    return vector\n",
    "# Used for converting token vectors to numerical vectors (implementation of Bag of Words)"
   ]
  },
  {
   "cell_type": "code",
   "execution_count": 4,
   "id": "ffcf79c6-d781-4427-8572-36f35af51307",
   "metadata": {},
   "outputs": [
    {
     "name": "stdout",
     "output_type": "stream",
     "text": [
      "Raw Dataset :-\n",
      "   label                                            message\n",
      "0   ham  Go until jurong point, crazy.. Available only ...\n",
      "1   ham                      Ok lar... Joking wif u oni...\n",
      "2  spam  Free entry in 2 a wkly comp to win FA Cup fina...\n",
      "3   ham  U dun say so early hor... U c already then say...\n",
      "4   ham  Nah I don't think he goes to usf, he lives aro...\n",
      "\n",
      "Data Types of Dataset :-\n",
      " label      object\n",
      "message    object\n",
      "dtype: object\n",
      "\n",
      "Shape of the Dataset :  (5572, 2)\n",
      "\n",
      "Duplicated Values in the Dataset :  403\n",
      "\n",
      "NaN Entries in the Dataset :-\n",
      " label      0\n",
      "message    0\n",
      "dtype: int64\n",
      "\n",
      "Percentage of Spam Data : 13.41%\n",
      "Percentage of Ham Data : 86.59%\n"
     ]
    }
   ],
   "source": [
    "# Taking a look into the Dataset\n",
    "\n",
    "data = pd.read_csv('SMSSpamCollection.csv', sep='\\t')\n",
    "print('Raw Dataset :-\\n',data.head())\n",
    "\n",
    "print('\\nData Types of Dataset :-\\n',data.dtypes)\n",
    "\n",
    "print('\\nShape of the Dataset : ',data.shape)\n",
    "\n",
    "print('\\nDuplicated Values in the Dataset : ',data.duplicated().sum())\n",
    "\n",
    "print('\\nNaN Entries in the Dataset :-\\n',data.isna().sum())\n",
    "\n",
    "total = len(data)\n",
    "spam_percentage = (((data['label']=='spam').sum())/total)*100\n",
    "ham_percentage = (((data['label']=='ham').sum())/total)*100\n",
    "\n",
    "print(f'\\nPercentage of Spam Data : {spam_percentage:.2f}%\\nPercentage of Ham Data : {ham_percentage:.2f}%')"
   ]
  },
  {
   "cell_type": "code",
   "execution_count": 5,
   "id": "7fe07441-e3b0-44cf-9c41-df56d6dc5201",
   "metadata": {},
   "outputs": [
    {
     "name": "stdout",
     "output_type": "stream",
     "text": [
      "dataset cleaned sucessfully\n"
     ]
    }
   ],
   "source": [
    "# Cleaning the Dataset\n",
    "\n",
    "data_cleaned = data.copy()\n",
    "\n",
    "# Converting to Lowercase\n",
    "data_cleaned['message'] = data_cleaned['message'].str.lower()\n",
    "\n",
    "# Removing whitespace in the beginning and end of a message\n",
    "data_cleaned['message'] = data_cleaned['message'].str.strip()\n",
    "\n",
    "# Removing Punctuation\n",
    "data_cleaned['message'] = data_cleaned['message'].str.translate(str.maketrans('','',string.punctuation))\n",
    "\n",
    "# Removing Numbers\n",
    "data_cleaned['message'] = data_cleaned['message'].str.replace(r'\\d+','',regex=True)\n",
    "\n",
    "# Removing Duplicated Values\n",
    "data_cleaned.drop_duplicates(subset='message',inplace=True)\n",
    "\n",
    "# Converting 'spam' to 1 and 'ham' to 0\n",
    "data_cleaned['label'] = data_cleaned['label'].map({'spam':1,'ham':0})\n",
    "\n",
    "print('dataset cleaned sucessfully')"
   ]
  },
  {
   "cell_type": "code",
   "execution_count": 6,
   "id": "97b7e630-699b-4e1b-b617-534758221310",
   "metadata": {},
   "outputs": [
    {
     "name": "stdout",
     "output_type": "stream",
     "text": [
      "   label                                            message  \\\n",
      "0      0  go until jurong point crazy available only in ...   \n",
      "1      0                            ok lar joking wif u oni   \n",
      "2      1  free entry in  a wkly comp to win fa cup final...   \n",
      "3      0        u dun say so early hor u c already then say   \n",
      "4      0  nah i dont think he goes to usf he lives aroun...   \n",
      "5      1  freemsg hey there darling its been  weeks now ...   \n",
      "\n",
      "                                              tokens  \n",
      "0  [go, until, jurong, point, crazy, available, o...  \n",
      "1                     [ok, lar, joking, wif, u, oni]  \n",
      "2  [free, entry, in, a, wkly, comp, to, win, fa, ...  \n",
      "3  [u, dun, say, so, early, hor, u, c, already, t...  \n",
      "4  [nah, i, dont, think, he, goes, to, usf, he, l...  \n",
      "5  [freemsg, hey, there, darling, its, been, week...  \n",
      "   label                                            message  \\\n",
      "0      0  go until jurong point crazy available only in ...   \n",
      "1      0                            ok lar joking wif u oni   \n",
      "2      1  free entry in  a wkly comp to win fa cup final...   \n",
      "3      0        u dun say so early hor u c already then say   \n",
      "4      0  nah i dont think he goes to usf he lives aroun...   \n",
      "\n",
      "                                              tokens  \\\n",
      "0  [go, until, jurong, point, crazy, available, o...   \n",
      "1                     [ok, lar, joking, wif, u, oni]   \n",
      "2  [free, entry, in, a, wkly, comp, to, win, fa, ...   \n",
      "3  [u, dun, say, so, early, hor, u, c, already, t...   \n",
      "4  [nah, i, dont, think, he, goes, to, usf, he, l...   \n",
      "\n",
      "                                              vector  \n",
      "0  [0, 0, 0, 0, 0, 0, 0, 0, 0, 0, 0, 0, 0, 0, 0, ...  \n",
      "1  [0, 0, 0, 0, 0, 0, 0, 0, 0, 0, 0, 0, 0, 0, 0, ...  \n",
      "2  [1, 0, 0, 0, 0, 0, 0, 0, 0, 0, 0, 0, 0, 0, 0, ...  \n",
      "3  [0, 0, 0, 0, 0, 0, 0, 0, 0, 0, 0, 0, 0, 0, 0, ...  \n",
      "4  [0, 0, 0, 0, 0, 0, 0, 0, 0, 0, 0, 0, 0, 0, 0, ...  \n"
     ]
    }
   ],
   "source": [
    "# Tokenizing the messages\n",
    "\n",
    "data_cleaned['tokens'] = data_cleaned['message'].apply(tokenize)\n",
    "print(data_cleaned.head(6))\n",
    "\n",
    "# Creating a Vocabulary\n",
    "words = set()\n",
    "\n",
    "for tokens in data_cleaned['tokens']:\n",
    "    words.update(tokens)\n",
    "\n",
    "words = sorted(words)\n",
    "\n",
    "Vocab = {word:idx for idx,word in enumerate(words)}\n",
    "\n",
    "Data = data_cleaned.copy()\n",
    "Data['vector'] = Data['tokens'].apply(lambda tokens: text_to_vector(tokens, Vocab))\n",
    "\n",
    "print(Data.head())"
   ]
  },
  {
   "cell_type": "code",
   "execution_count": 7,
   "id": "9c0f507f-ebfe-422d-9728-d95277400199",
   "metadata": {},
   "outputs": [
    {
     "name": "stdout",
     "output_type": "stream",
     "text": [
      "saved CSV file sucessfully\n"
     ]
    }
   ],
   "source": [
    "# Saving the Final Dataset to be used for the training\n",
    "\n",
    "Data.to_csv('Cleaned_Spam_Dataset.csv',index=False)\n",
    "print('saved CSV file sucessfully')"
   ]
  },
  {
   "cell_type": "code",
   "execution_count": 8,
   "id": "2c37a988-7405-41d5-9a31-bc08e50fb326",
   "metadata": {},
   "outputs": [
    {
     "name": "stdout",
     "output_type": "stream",
     "text": [
      "Shuffled spam and ham lists sucessfully\n",
      "Splitted the Dataset sucessfully\n",
      "Shuffled the Training, Validation and Test subsets sucessfully\n",
      "\n",
      "\n",
      "\n",
      "Training Set:-\n",
      "\n",
      "Shape : (1466, 4)\n",
      "Spam Percentage : 30.97%\n",
      "Ham Percentage : 69.03%\n",
      "\n",
      "\n",
      "Validation Set:-\n",
      "\n",
      "Shape : (292, 4)\n",
      "Spam Percentage : 30.82%\n",
      "Ham Percentage : 69.18%\n",
      "\n",
      "\n",
      "Test Set:-\n",
      "\n",
      "Shape : (198, 4)\n",
      "Spam Percentage : 31.31%\n",
      "Ham Percentage : 68.69%\n"
     ]
    }
   ],
   "source": [
    "# Splitting the Dataset into Training, Validation and Test set\n",
    "\n",
    "# Extracting Spam and Ham messages from the Dataset\n",
    "spam_list = Data[Data['label']==1]\n",
    "ham_list = Data[Data['label']==0]\n",
    "\n",
    "# Undersampling ham_list as the dataset is heavily unbalanced\n",
    "undersample_percentage = 0.7\n",
    "rows_to_drop = int(undersample_percentage*len(ham_list))\n",
    "drop_indices = np.random.choice(ham_list.index, rows_to_drop, replace=False)\n",
    "ham_list = ham_list.drop(drop_indices)\n",
    "\n",
    "# Shuffling the spam and ham lists\n",
    "spam_list = spam_list.sample(frac=1).reset_index(drop=True)\n",
    "ham_list = ham_list.sample(frac=1).reset_index(drop=True)\n",
    "print('Shuffled spam and ham lists sucessfully')\n",
    "\n",
    "# Splitting\n",
    "train_size = 0.75\n",
    "valid_size = 0.15\n",
    "test_size = 0.15\n",
    "\n",
    "num_spam = len(spam_list)\n",
    "num_ham = len(ham_list)\n",
    "\n",
    "train_spam = int(train_size*num_spam)\n",
    "val_spam = int(valid_size*num_spam)\n",
    "test_spam = num_spam - train_spam - val_spam\n",
    "\n",
    "train_ham = int(train_size*num_ham)\n",
    "val_ham = int(valid_size*num_ham)\n",
    "test_ham = num_ham - train_ham - val_ham\n",
    "\n",
    "training = pd.concat([spam_list[:train_spam],ham_list[:train_ham]],ignore_index=True)\n",
    "validation = pd.concat([spam_list[train_spam:train_spam + val_spam],ham_list[train_ham:train_ham + val_ham]],ignore_index=True)\n",
    "test = pd.concat([spam_list[-test_spam:],ham_list[-test_ham:]],ignore_index=True)\n",
    "\n",
    "print('Splitted the Dataset sucessfully')\n",
    "\n",
    "training = training.sample(frac=1).reset_index(drop=True)\n",
    "validation = validation.sample(frac=1).reset_index(drop=True)\n",
    "test = test.sample(frac=1).reset_index(drop=True)\n",
    "\n",
    "print('Shuffled the Training, Validation and Test subsets sucessfully')\n",
    "\n",
    "print(f'\\n\\n\\nTraining Set:-\\n\\nShape : {training.shape}')\n",
    "print(f'Spam Percentage : {((((training['label']==1).sum())/(len(training)))*100):.2f}%')\n",
    "print(f'Ham Percentage : {((((training['label']==0).sum())/(len(training)))*100):.2f}%')\n",
    "\n",
    "print(f'\\n\\nValidation Set:-\\n\\nShape : {validation.shape}')\n",
    "print(f'Spam Percentage : {((((validation['label']==1).sum())/(len(validation)))*100):.2f}%')\n",
    "print(f'Ham Percentage : {((((validation['label']==0).sum())/(len(validation)))*100):.2f}%')\n",
    "\n",
    "print(f'\\n\\nTest Set:-\\n\\nShape : {test.shape}')\n",
    "print(f'Spam Percentage : {((((test['label']==1).sum())/(len(test)))*100):.2f}%')\n",
    "print(f'Ham Percentage : {((((test['label']==0).sum())/(len(test)))*100):.2f}%')"
   ]
  },
  {
   "cell_type": "code",
   "execution_count": 9,
   "id": "e29c7cad-dada-4e08-b36a-32ac41bed85c",
   "metadata": {},
   "outputs": [
    {
     "name": "stdout",
     "output_type": "stream",
     "text": [
      "Initialized weights and bias\n"
     ]
    }
   ],
   "source": [
    "# Inititalizing weights and bias\n",
    "\n",
    "weights = np.zeros((len(Vocab),1))\n",
    "bias = 0.0\n",
    "\n",
    "print('Initialized weights and bias')"
   ]
  },
  {
   "cell_type": "code",
   "execution_count": 10,
   "id": "dee02ee9-6481-414a-b4a2-ddbca9c93125",
   "metadata": {},
   "outputs": [
    {
     "name": "stderr",
     "output_type": "stream",
     "text": [
      " 20%|████████████████                                                                | 100/500 [00:25<01:41,  3.93it/s]"
     ]
    },
    {
     "name": "stdout",
     "output_type": "stream",
     "text": [
      "Epoch 100 completed\n",
      "Loss = 0.1012\n",
      "\n",
      "Validation Test Analysis :-\n",
      "Accuracy = 93.49\n",
      "Precision = 87.37\n",
      "Recall = 92.22\n",
      "False Alarm = 12.63\n",
      "F1 Score : 89.73\n",
      "\n",
      "\n"
     ]
    },
    {
     "name": "stderr",
     "output_type": "stream",
     "text": [
      " 40%|████████████████████████████████                                                | 200/500 [00:52<01:29,  3.33it/s]"
     ]
    },
    {
     "name": "stdout",
     "output_type": "stream",
     "text": [
      "Epoch 200 completed\n",
      "Loss = 0.0758\n",
      "\n",
      "Validation Test Analysis :-\n",
      "Accuracy = 95.21\n",
      "Precision = 93.18\n",
      "Recall = 91.11\n",
      "False Alarm = 6.82\n",
      "F1 Score : 92.13\n",
      "\n",
      "\n"
     ]
    },
    {
     "name": "stderr",
     "output_type": "stream",
     "text": [
      " 60%|████████████████████████████████████████████████                                | 300/500 [01:14<00:43,  4.61it/s]"
     ]
    },
    {
     "name": "stdout",
     "output_type": "stream",
     "text": [
      "Epoch 300 completed\n",
      "Loss = 0.0636\n",
      "\n",
      "Validation Test Analysis :-\n",
      "Accuracy = 95.21\n",
      "Precision = 93.18\n",
      "Recall = 91.11\n",
      "False Alarm = 6.82\n",
      "F1 Score : 92.13\n",
      "\n",
      "\n"
     ]
    },
    {
     "name": "stderr",
     "output_type": "stream",
     "text": [
      " 80%|████████████████████████████████████████████████████████████████                | 400/500 [01:35<00:21,  4.66it/s]"
     ]
    },
    {
     "name": "stdout",
     "output_type": "stream",
     "text": [
      "Epoch 400 completed\n",
      "Loss = 0.0559\n",
      "\n",
      "Validation Test Analysis :-\n",
      "Accuracy = 95.55\n",
      "Precision = 94.25\n",
      "Recall = 91.11\n",
      "False Alarm = 5.75\n",
      "F1 Score : 92.66\n",
      "\n",
      "\n"
     ]
    },
    {
     "name": "stderr",
     "output_type": "stream",
     "text": [
      "100%|████████████████████████████████████████████████████████████████████████████████| 500/500 [01:56<00:00,  4.31it/s]"
     ]
    },
    {
     "name": "stdout",
     "output_type": "stream",
     "text": [
      "Epoch 500 completed\n",
      "Loss = 0.0504\n",
      "\n",
      "Validation Test Analysis :-\n",
      "Accuracy = 95.21\n",
      "Precision = 94.19\n",
      "Recall = 90.00\n",
      "False Alarm = 5.81\n",
      "F1 Score : 92.05\n",
      "\n",
      "\n"
     ]
    },
    {
     "name": "stderr",
     "output_type": "stream",
     "text": [
      "\n"
     ]
    },
    {
     "data": {
      "image/png": "[encoded data removed]",
      "text/plain": [
       "<Figure size 1300x600 with 1 Axes>"
      ]
     },
     "metadata": {},
     "output_type": "display_data"
    }
   ],
   "source": [
    "# Hyperparameters\n",
    "lr = 0.01\n",
    "batch_size = 64\n",
    "epochs = 500\n",
    "threshold = 0.3\n",
    "\n",
    "# Extracting feature and label from Training subset\n",
    "X = np.array(training['vector'].tolist())\n",
    "Y = np.array(training['label'],dtype='float')\n",
    "Y = Y.reshape(len(Y),1)\n",
    "epoch_loss = []\n",
    "\n",
    "# Gradient Descent\n",
    "for epoch in tqdm(range(epochs)):\n",
    "    \n",
    "    # Shuffling Training subset at the start of each epoch\n",
    "    training = training.sample(frac=1).reset_index(drop=True)\n",
    "    batch_loss = []\n",
    "    size = 0\n",
    "\n",
    "    # Iterating over Batches\n",
    "    for i in range(0,len(training),batch_size):\n",
    "\n",
    "        X_batch = X[i:i+batch_size]\n",
    "        Y_batch = Y[i:i+batch_size]\n",
    "        size = len(X_batch)\n",
    "\n",
    "        # Predicting Output\n",
    "        z = np.dot(X_batch, weights) + bias\n",
    "        y_predicted = sigmoid(z)\n",
    "\n",
    "        # To avoid log(0) while computing Loss\n",
    "        epsilon = 1e-15  # a very small number\n",
    "        y_predicted = np.clip(y_predicted, epsilon, 1 - epsilon)\n",
    "\n",
    "        error = y_predicted - Y_batch\n",
    "        dW = (1/size) * (np.dot(X_batch.T,error))\n",
    "        dB = (1/size) * (np.sum(error))\n",
    "\n",
    "        # Updating weights and bias using their gradients\n",
    "        weights -= lr*dW\n",
    "        bias -= lr*dB\n",
    "        batch_loss.append(calculate_loss(y_predicted,Y_batch))\n",
    "        \n",
    "    loss = sum(batch_loss)/size\n",
    "    epoch_loss.append(loss)\n",
    "\n",
    "    # Conducting Validation Test every 100 Epochs\n",
    "    if ((epoch+1)%100==0):\n",
    "        TP, TN, FP, FN = Test(validation, weights, bias, threshold)\n",
    "        accuracy, precision, recall, false_alarm, F1 = getStats(TP, TN, FP, FN)\n",
    "        print(f'Epoch {epoch+1} completed\\nLoss = {loss:.4f}\\n')\n",
    "        print(f'Validation Test Analysis :-\\nAccuracy = {accuracy:.2f}\\nPrecision = {precision:.2f}\\nRecall = {recall:.2f}')\n",
    "        print(f'False Alarm = {false_alarm:.2f}\\nF1 Score : {F1:.2f}\\n\\n')\n",
    "\n",
    "# Plotting the Loss Graph\n",
    "plt.figure(figsize=(13,6),facecolor='orange')\n",
    "plt.plot(np.linspace(1,epochs,epochs),epoch_loss,'r-',label='Loss')\n",
    "plt.grid(True)\n",
    "plt.title(\"Loss Graph\",fontsize=20)\n",
    "plt.xlabel(\"Epochs\",fontsize=15)\n",
    "plt.ylabel(\"Loss\",fontsize=15)\n",
    "plt.legend(loc='best')\n",
    "plt.show()"
   ]
  },
  {
   "cell_type": "code",
   "execution_count": 25,
   "id": "c10e359a-86f8-4c23-84ca-3db5e03d6d48",
   "metadata": {},
   "outputs": [
    {
     "name": "stdout",
     "output_type": "stream",
     "text": [
      "Final Test Analysis :-\n",
      "Accuracy = 95.45\n",
      "Precision = 96.49\n",
      "Recall = 88.71\n",
      "False Alarm = 3.51\n",
      "F1 Score : 92.44\n",
      "\n",
      "\n"
     ]
    }
   ],
   "source": [
    "# Final Test\n",
    "\n",
    "TP, TN, FP, FN = Test(test, weights, bias, threshold)\n",
    "accuracy, precision, recall, false_alarm, F1 = getStats(TP, TN, FP, FN)\n",
    "print(f'Final Test Analysis :-\\nAccuracy = {accuracy:.2f}\\nPrecision = {precision:.2f}\\nRecall = {recall:.2f}')\n",
    "print(f'False Alarm = {false_alarm:.2f}\\nF1 Score : {F1:.2f}\\n\\n')\n"
   ]
  }
 ],
 "metadata": {
  "kernelspec": {
   "display_name": "Python [conda env:base] *",
   "language": "python",
   "name": "conda-base-py"
  },
  "language_info": {
   "codemirror_mode": {
    "name": "ipython",
    "version": 3
   },
   "file_extension": ".py",
   "mimetype": "text/x-python",
   "name": "python",
   "nbconvert_exporter": "python",
   "pygments_lexer": "ipython3",
   "version": "3.12.7"
  }
 },
 "nbformat": 4,
 "nbformat_minor": 5
}
